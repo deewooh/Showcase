{
 "cells": [
  {
   "cell_type": "code",
   "execution_count": 2,
   "metadata": {},
   "outputs": [
    {
     "name": "stdout",
     "output_type": "stream",
     "text": [
      "(9500, 35822)\n",
      "['ARTS CULTURE ENTERTAINMENT' 'BIOGRAPHIES PERSONALITIES PEOPLE' 'DEFENCE'\n",
      " 'DOMESTIC MARKETS' 'FOREX MARKETS' 'HEALTH' 'IRRELEVANT' 'MONEY MARKETS'\n",
      " 'SCIENCE AND TECHNOLOGY' 'SHARE LISTINGS' 'SPORTS']\n",
      "(9500,)\n"
     ]
    }
   ],
   "source": [
    "# Data pre-processing\n",
    "# My first attempt at converting the training data into CountVector\n",
    "\n",
    "%matplotlib inline\n",
    "import matplotlib.pyplot as plt\n",
    "import seaborn as sns\n",
    "import pandas as pd\n",
    "import numpy as np\n",
    "\n",
    "from sklearn import preprocessing\n",
    "from sklearn.naive_bayes import MultinomialNB, BernoulliNB\n",
    "from sklearn.feature_extraction.text import CountVectorizer\n",
    "from sklearn.metrics import accuracy_score, precision_score, recall_score, f1_score, classification_report\n",
    "\n",
    "\n",
    "# Read the training.csv\n",
    "raw_data = pd.read_csv('training.csv')\n",
    "raw_test = pd.read_csv('test.csv')\n",
    "df = pd.DataFrame(raw_data)\n",
    "ds = pd.DataFrame(raw_test)\n",
    "#print(df.head())\n",
    "\n",
    "#Some data cleaning and preprocessing\n",
    "#Replace all the commas in the strings with a 'space'\n",
    "    #This is required as CountVectorizer splits words with spaces\n",
    "df['article_words'] = df['article_words'].str.replace(\",\", \" \")\n",
    "ds['article_words'] = ds['article_words'].str.replace(\",\", \" \")\n",
    "\n",
    "#Define the input (x)\n",
    "x = df['article_words']\n",
    "#Define the labelled output (y)\n",
    "y = df['topic']\n",
    "\n",
    "\n",
    "x_test = df['article_words']\n",
    "y_test = df['topic']\n",
    "\n",
    "\n",
    "\n",
    "#Convert the Pandas dataframe to an array\n",
    "x_array = x.values\n",
    "#Create and fit the CountVectorizer\n",
    "count = CountVectorizer()\n",
    "x_train_BoW = count.fit_transform(x_array)\n",
    "#Just some testing\n",
    "print(x_train_BoW.shape)\n",
    "\n",
    "\n",
    "\n",
    "\n",
    "#Encode the labelled data\n",
    "label_enc = preprocessing.LabelEncoder()\n",
    "label_enc.fit(y)\n",
    "print(label_enc.classes_)\n",
    "y_train = label_enc.transform(y)\n",
    "\n",
    "print(y_train.shape)"
   ]
  },
  {
   "cell_type": "code",
   "execution_count": null,
   "metadata": {},
   "outputs": [],
   "source": []
  }
 ],
 "metadata": {
  "kernelspec": {
   "display_name": "Python 3",
   "language": "python",
   "name": "python3"
  },
  "language_info": {
   "codemirror_mode": {
    "name": "ipython",
    "version": 3
   },
   "file_extension": ".py",
   "mimetype": "text/x-python",
   "name": "python",
   "nbconvert_exporter": "python",
   "pygments_lexer": "ipython3",
   "version": "3.7.4"
  }
 },
 "nbformat": 4,
 "nbformat_minor": 2
}
